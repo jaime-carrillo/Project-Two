{
 "cells": [
  {
   "cell_type": "code",
   "execution_count": 8,
   "metadata": {},
   "outputs": [],
   "source": [
    "import pandas as pd\n",
    "import numpy as np\n",
    "import csv"
   ]
  },
  {
   "cell_type": "code",
   "execution_count": 23,
   "metadata": {},
   "outputs": [],
   "source": [
    "CA_ed_data = pd.read_csv('2018_ed_data.csv')\n",
    "# CA_ed_data"
   ]
  },
  {
   "cell_type": "code",
   "execution_count": 30,
   "metadata": {},
   "outputs": [
    {
     "data": {
      "text/plain": [
       "80"
      ]
     },
     "execution_count": 30,
     "metadata": {},
     "output_type": "execute_result"
    }
   ],
   "source": [
    "LA_ed = CA_ed_data.loc[CA_ed_data[\"county_name\"] == \"LOS ANGELES\"]\n",
    "# LA_ed.head()\n",
    "len(LA_ed)"
   ]
  },
  {
   "cell_type": "code",
   "execution_count": 39,
   "metadata": {},
   "outputs": [
    {
     "data": {
      "text/plain": [
       "78"
      ]
     },
     "execution_count": 39,
     "metadata": {},
     "output_type": "execute_result"
    }
   ],
   "source": [
    "LA_ed_df = LA_ed.loc[LA_ed[\"LICENSE_CATEGORY_DESC\"] == \"General Acute Care Hospital\"]\n",
    "LA_ed_df.head()\n",
    "len(LA_ed_df)"
   ]
  },
  {
   "cell_type": "code",
   "execution_count": 44,
   "metadata": {},
   "outputs": [],
   "source": [
    "LA_ed_data = LA_ed_df[[\"oshpd_id2\",\"facility_name\",\"control_type_desc\", \"DBA_ADDRESS1\", \"DBA_CITY\", \"DBA_ZIP_CODE\", \"licensed_bed_size\", \"Sex_Female\",\"Sex_Male\",\"Age_01_09\",\"Age_10_19\",\"Age_20_29\", \"Age_30_39\", \"Age_40_49\", \"Age_50_59\", \"Age_60_69\", \"Age_70_79\",\"Age_80_\", \"Age_Under_1\", \"Hispanic or Latino\", \"Non-Hispanic or Non-Latino\",\"Unknown_Eth\", \"Acute_Care\", \"Against_Medical_Advice\", \"Died\", \"Other_Disp\", \"Prison_Jail\", \"Psychiatric_Care\", \"Routine\", \"Medi_Cal\", \"Medicare\", \"Other_Payer\", \"Private_Coverage\",\"SelfPay\", \"Unknown_Payer\", \"DX_All_Pregnancies\", \"DX_Birth_Defects\", \"DX_Blood_Disorders\", \"DX_Cancer\",\"DX_Circulatory_System\", \"DX_Digestive_System\", \"DX_Ear_Disorders\", \"DX_Endocrine_Diseases\", \"DX_Eye_Disorders\", \"DX_Genitourinary_System\",\"DX_Infections\", \"DX_Injuries_Poisonings\", \"DX_Mental_Disorders\", \"DX_Musculoskeletal_System\", \"DX_Nervous_System\", \"DX_Other_Reasons\", \"DX_Perinatal_Disorders\", \"DX_Respiratory_System\", \"DX_Skin_Disorders\", \"DX_Symptoms\",\"DX_Births\", \"ED_Visit\", \"All_Other_Languages\", \"English\", \"Spanish\"]]\n",
    "# LA_ed_data"
   ]
  },
  {
   "cell_type": "code",
   "execution_count": 45,
   "metadata": {},
   "outputs": [
    {
     "data": {
      "text/html": [
       "<div>\n",
       "<style scoped>\n",
       "    .dataframe tbody tr th:only-of-type {\n",
       "        vertical-align: middle;\n",
       "    }\n",
       "\n",
       "    .dataframe tbody tr th {\n",
       "        vertical-align: top;\n",
       "    }\n",
       "\n",
       "    .dataframe thead th {\n",
       "        text-align: right;\n",
       "    }\n",
       "</style>\n",
       "<table border=\"1\" class=\"dataframe\">\n",
       "  <thead>\n",
       "    <tr style=\"text-align: right;\">\n",
       "      <th></th>\n",
       "      <th>facility_name</th>\n",
       "      <th>control_type_desc</th>\n",
       "      <th>DBA_ADDRESS1</th>\n",
       "      <th>DBA_CITY</th>\n",
       "      <th>DBA_ZIP_CODE</th>\n",
       "      <th>licensed_bed_size</th>\n",
       "      <th>Sex_Female</th>\n",
       "      <th>Sex_Male</th>\n",
       "      <th>Age_01_09</th>\n",
       "      <th>Age_10_19</th>\n",
       "      <th>...</th>\n",
       "      <th>DX_Other_Reasons</th>\n",
       "      <th>DX_Perinatal_Disorders</th>\n",
       "      <th>DX_Respiratory_System</th>\n",
       "      <th>DX_Skin_Disorders</th>\n",
       "      <th>DX_Symptoms</th>\n",
       "      <th>DX_Births</th>\n",
       "      <th>ED_Visit</th>\n",
       "      <th>All_Other_Languages</th>\n",
       "      <th>English</th>\n",
       "      <th>Spanish</th>\n",
       "    </tr>\n",
       "    <tr>\n",
       "      <th>oshpd_id2</th>\n",
       "      <th></th>\n",
       "      <th></th>\n",
       "      <th></th>\n",
       "      <th></th>\n",
       "      <th></th>\n",
       "      <th></th>\n",
       "      <th></th>\n",
       "      <th></th>\n",
       "      <th></th>\n",
       "      <th></th>\n",
       "      <th></th>\n",
       "      <th></th>\n",
       "      <th></th>\n",
       "      <th></th>\n",
       "      <th></th>\n",
       "      <th></th>\n",
       "      <th></th>\n",
       "      <th></th>\n",
       "      <th></th>\n",
       "      <th></th>\n",
       "      <th></th>\n",
       "    </tr>\n",
       "  </thead>\n",
       "  <tbody>\n",
       "    <tr>\n",
       "      <th>106190017</th>\n",
       "      <td>ALHAMBRA HOSPITAL MEDICAL CENTER</td>\n",
       "      <td>Investor - Individual</td>\n",
       "      <td>100 SOUTH RAYMOND AVENUE</td>\n",
       "      <td>ALHAMBRA</td>\n",
       "      <td>91801</td>\n",
       "      <td>100-149</td>\n",
       "      <td>9120.0</td>\n",
       "      <td>6972.0</td>\n",
       "      <td>1375.0</td>\n",
       "      <td>1514.0</td>\n",
       "      <td>...</td>\n",
       "      <td>155.0</td>\n",
       "      <td>1.0</td>\n",
       "      <td>1908.0</td>\n",
       "      <td>672.0</td>\n",
       "      <td>3391.0</td>\n",
       "      <td>NaN</td>\n",
       "      <td>16093.0</td>\n",
       "      <td>1493.0</td>\n",
       "      <td>12664.0</td>\n",
       "      <td>1936.0</td>\n",
       "    </tr>\n",
       "    <tr>\n",
       "      <th>106190034</th>\n",
       "      <td>ANTELOPE VALLEY HOSPITAL</td>\n",
       "      <td>District</td>\n",
       "      <td>1600 WEST AVENUE J</td>\n",
       "      <td>LANCASTER</td>\n",
       "      <td>93534</td>\n",
       "      <td>300-499</td>\n",
       "      <td>65991.0</td>\n",
       "      <td>48013.0</td>\n",
       "      <td>15547.0</td>\n",
       "      <td>12697.0</td>\n",
       "      <td>...</td>\n",
       "      <td>7182.0</td>\n",
       "      <td>158.0</td>\n",
       "      <td>14634.0</td>\n",
       "      <td>3786.0</td>\n",
       "      <td>24751.0</td>\n",
       "      <td>1.0</td>\n",
       "      <td>114007.0</td>\n",
       "      <td>642.0</td>\n",
       "      <td>101899.0</td>\n",
       "      <td>11466.0</td>\n",
       "    </tr>\n",
       "    <tr>\n",
       "      <th>106190045</th>\n",
       "      <td>CATALINA ISLAND MEDICAL CENTER</td>\n",
       "      <td>Non-profit Corporation (incl. Church-related)</td>\n",
       "      <td>100 FALLS CANYON ROAD</td>\n",
       "      <td>AVALON</td>\n",
       "      <td>90704</td>\n",
       "      <td>1-49</td>\n",
       "      <td>1120.0</td>\n",
       "      <td>1016.0</td>\n",
       "      <td>209.0</td>\n",
       "      <td>279.0</td>\n",
       "      <td>...</td>\n",
       "      <td>9.0</td>\n",
       "      <td>2.0</td>\n",
       "      <td>182.0</td>\n",
       "      <td>102.0</td>\n",
       "      <td>357.0</td>\n",
       "      <td>NaN</td>\n",
       "      <td>2136.0</td>\n",
       "      <td>22.0</td>\n",
       "      <td>1419.0</td>\n",
       "      <td>695.0</td>\n",
       "    </tr>\n",
       "    <tr>\n",
       "      <th>106190053</th>\n",
       "      <td>ST. MARY MEDICAL CENTER - LONG BEACH</td>\n",
       "      <td>Non-profit Corporation (incl. Church-related)</td>\n",
       "      <td>1050 LINDEN AVENUE</td>\n",
       "      <td>LONG BEACH</td>\n",
       "      <td>90813</td>\n",
       "      <td>300-499</td>\n",
       "      <td>24414.0</td>\n",
       "      <td>22547.0</td>\n",
       "      <td>4426.0</td>\n",
       "      <td>3669.0</td>\n",
       "      <td>...</td>\n",
       "      <td>1597.0</td>\n",
       "      <td>45.0</td>\n",
       "      <td>5478.0</td>\n",
       "      <td>2406.0</td>\n",
       "      <td>9689.0</td>\n",
       "      <td>1.0</td>\n",
       "      <td>46973.0</td>\n",
       "      <td>251.0</td>\n",
       "      <td>39420.0</td>\n",
       "      <td>7302.0</td>\n",
       "    </tr>\n",
       "    <tr>\n",
       "      <th>106190066</th>\n",
       "      <td>LOS ANGELES COMMUNITY HOSPITAL AT BELLFLOWER</td>\n",
       "      <td>Investor - Corporation</td>\n",
       "      <td>9542 ARTESIA BOULEVARD</td>\n",
       "      <td>BELLFLOWER</td>\n",
       "      <td>90706</td>\n",
       "      <td>100-149</td>\n",
       "      <td>NaN</td>\n",
       "      <td>NaN</td>\n",
       "      <td>NaN</td>\n",
       "      <td>NaN</td>\n",
       "      <td>...</td>\n",
       "      <td>NaN</td>\n",
       "      <td>NaN</td>\n",
       "      <td>NaN</td>\n",
       "      <td>NaN</td>\n",
       "      <td>NaN</td>\n",
       "      <td>NaN</td>\n",
       "      <td>NaN</td>\n",
       "      <td>NaN</td>\n",
       "      <td>NaN</td>\n",
       "      <td>NaN</td>\n",
       "    </tr>\n",
       "    <tr>\n",
       "      <th>...</th>\n",
       "      <td>...</td>\n",
       "      <td>...</td>\n",
       "      <td>...</td>\n",
       "      <td>...</td>\n",
       "      <td>...</td>\n",
       "      <td>...</td>\n",
       "      <td>...</td>\n",
       "      <td>...</td>\n",
       "      <td>...</td>\n",
       "      <td>...</td>\n",
       "      <td>...</td>\n",
       "      <td>...</td>\n",
       "      <td>...</td>\n",
       "      <td>...</td>\n",
       "      <td>...</td>\n",
       "      <td>...</td>\n",
       "      <td>...</td>\n",
       "      <td>...</td>\n",
       "      <td>...</td>\n",
       "      <td>...</td>\n",
       "      <td>...</td>\n",
       "    </tr>\n",
       "    <tr>\n",
       "      <th>106194219</th>\n",
       "      <td>KECK HOSPITAL OF USC</td>\n",
       "      <td>Non-profit Corporation (incl. Church-related)</td>\n",
       "      <td>1500 SAN PABLO STREET</td>\n",
       "      <td>LOS ANGELES</td>\n",
       "      <td>90033</td>\n",
       "      <td>300-499</td>\n",
       "      <td>NaN</td>\n",
       "      <td>NaN</td>\n",
       "      <td>NaN</td>\n",
       "      <td>NaN</td>\n",
       "      <td>...</td>\n",
       "      <td>NaN</td>\n",
       "      <td>NaN</td>\n",
       "      <td>NaN</td>\n",
       "      <td>NaN</td>\n",
       "      <td>NaN</td>\n",
       "      <td>NaN</td>\n",
       "      <td>NaN</td>\n",
       "      <td>NaN</td>\n",
       "      <td>NaN</td>\n",
       "      <td>NaN</td>\n",
       "    </tr>\n",
       "    <tr>\n",
       "      <th>106196035</th>\n",
       "      <td>KAISER FOUNDATION HOSPITAL - BALDWIN PARK</td>\n",
       "      <td>Non-profit Corporation (incl. Church-related)</td>\n",
       "      <td>1011 BALDWIN PARK BLVD.</td>\n",
       "      <td>BALDWIN PARK</td>\n",
       "      <td>91706</td>\n",
       "      <td>200-299</td>\n",
       "      <td>40876.0</td>\n",
       "      <td>33868.0</td>\n",
       "      <td>8536.0</td>\n",
       "      <td>7304.0</td>\n",
       "      <td>...</td>\n",
       "      <td>1310.0</td>\n",
       "      <td>66.0</td>\n",
       "      <td>7487.0</td>\n",
       "      <td>2622.0</td>\n",
       "      <td>18048.0</td>\n",
       "      <td>NaN</td>\n",
       "      <td>74748.0</td>\n",
       "      <td>1630.0</td>\n",
       "      <td>61533.0</td>\n",
       "      <td>11585.0</td>\n",
       "    </tr>\n",
       "    <tr>\n",
       "      <th>106196168</th>\n",
       "      <td>MEMORIALCARE MILLER CHILDREN'S &amp; WOMEN'S HOSPI...</td>\n",
       "      <td>Non-profit Corporation (incl. Church-related)</td>\n",
       "      <td>2801 ATLANTIC AVENUE</td>\n",
       "      <td>LONG BEACH</td>\n",
       "      <td>90806</td>\n",
       "      <td>300-499</td>\n",
       "      <td>NaN</td>\n",
       "      <td>NaN</td>\n",
       "      <td>NaN</td>\n",
       "      <td>NaN</td>\n",
       "      <td>...</td>\n",
       "      <td>NaN</td>\n",
       "      <td>NaN</td>\n",
       "      <td>NaN</td>\n",
       "      <td>NaN</td>\n",
       "      <td>NaN</td>\n",
       "      <td>NaN</td>\n",
       "      <td>NaN</td>\n",
       "      <td>NaN</td>\n",
       "      <td>NaN</td>\n",
       "      <td>NaN</td>\n",
       "    </tr>\n",
       "    <tr>\n",
       "      <th>106196403</th>\n",
       "      <td>KAISER FOUNDATION HOSPITAL - DOWNEY</td>\n",
       "      <td>Non-profit Corporation (incl. Church-related)</td>\n",
       "      <td>9333 IMPERIAL HIGHWAY</td>\n",
       "      <td>DOWNEY</td>\n",
       "      <td>90242</td>\n",
       "      <td>300-499</td>\n",
       "      <td>55056.0</td>\n",
       "      <td>42398.0</td>\n",
       "      <td>11202.0</td>\n",
       "      <td>8601.0</td>\n",
       "      <td>...</td>\n",
       "      <td>1276.0</td>\n",
       "      <td>128.0</td>\n",
       "      <td>8977.0</td>\n",
       "      <td>3295.0</td>\n",
       "      <td>28388.0</td>\n",
       "      <td>NaN</td>\n",
       "      <td>97457.0</td>\n",
       "      <td>885.0</td>\n",
       "      <td>80346.0</td>\n",
       "      <td>16226.0</td>\n",
       "    </tr>\n",
       "    <tr>\n",
       "      <th>106196405</th>\n",
       "      <td>PALMDALE REGIONAL MEDICAL CENTER</td>\n",
       "      <td>Investor - Corporation</td>\n",
       "      <td>38600 MEDICAL CENTER DRIVE</td>\n",
       "      <td>PALMDALE</td>\n",
       "      <td>93551</td>\n",
       "      <td>150-199</td>\n",
       "      <td>36853.0</td>\n",
       "      <td>27750.0</td>\n",
       "      <td>8922.0</td>\n",
       "      <td>7926.0</td>\n",
       "      <td>...</td>\n",
       "      <td>2430.0</td>\n",
       "      <td>24.0</td>\n",
       "      <td>8707.0</td>\n",
       "      <td>2320.0</td>\n",
       "      <td>14305.0</td>\n",
       "      <td>4.0</td>\n",
       "      <td>64603.0</td>\n",
       "      <td>374.0</td>\n",
       "      <td>59449.0</td>\n",
       "      <td>4780.0</td>\n",
       "    </tr>\n",
       "  </tbody>\n",
       "</table>\n",
       "<p>78 rows × 59 columns</p>\n",
       "</div>"
      ],
      "text/plain": [
       "                                               facility_name  \\\n",
       "oshpd_id2                                                      \n",
       "106190017                   ALHAMBRA HOSPITAL MEDICAL CENTER   \n",
       "106190034                           ANTELOPE VALLEY HOSPITAL   \n",
       "106190045                     CATALINA ISLAND MEDICAL CENTER   \n",
       "106190053               ST. MARY MEDICAL CENTER - LONG BEACH   \n",
       "106190066       LOS ANGELES COMMUNITY HOSPITAL AT BELLFLOWER   \n",
       "...                                                      ...   \n",
       "106194219                               KECK HOSPITAL OF USC   \n",
       "106196035          KAISER FOUNDATION HOSPITAL - BALDWIN PARK   \n",
       "106196168  MEMORIALCARE MILLER CHILDREN'S & WOMEN'S HOSPI...   \n",
       "106196403                KAISER FOUNDATION HOSPITAL - DOWNEY   \n",
       "106196405                   PALMDALE REGIONAL MEDICAL CENTER   \n",
       "\n",
       "                                       control_type_desc  \\\n",
       "oshpd_id2                                                  \n",
       "106190017                          Investor - Individual   \n",
       "106190034                                       District   \n",
       "106190045  Non-profit Corporation (incl. Church-related)   \n",
       "106190053  Non-profit Corporation (incl. Church-related)   \n",
       "106190066                         Investor - Corporation   \n",
       "...                                                  ...   \n",
       "106194219  Non-profit Corporation (incl. Church-related)   \n",
       "106196035  Non-profit Corporation (incl. Church-related)   \n",
       "106196168  Non-profit Corporation (incl. Church-related)   \n",
       "106196403  Non-profit Corporation (incl. Church-related)   \n",
       "106196405                         Investor - Corporation   \n",
       "\n",
       "                         DBA_ADDRESS1      DBA_CITY  DBA_ZIP_CODE  \\\n",
       "oshpd_id2                                                           \n",
       "106190017    100 SOUTH RAYMOND AVENUE      ALHAMBRA         91801   \n",
       "106190034          1600 WEST AVENUE J     LANCASTER         93534   \n",
       "106190045       100 FALLS CANYON ROAD        AVALON         90704   \n",
       "106190053          1050 LINDEN AVENUE    LONG BEACH         90813   \n",
       "106190066      9542 ARTESIA BOULEVARD    BELLFLOWER         90706   \n",
       "...                               ...           ...           ...   \n",
       "106194219       1500 SAN PABLO STREET   LOS ANGELES         90033   \n",
       "106196035     1011 BALDWIN PARK BLVD.  BALDWIN PARK         91706   \n",
       "106196168        2801 ATLANTIC AVENUE    LONG BEACH         90806   \n",
       "106196403       9333 IMPERIAL HIGHWAY        DOWNEY         90242   \n",
       "106196405  38600 MEDICAL CENTER DRIVE      PALMDALE         93551   \n",
       "\n",
       "          licensed_bed_size  Sex_Female  Sex_Male  Age_01_09  Age_10_19  ...  \\\n",
       "oshpd_id2                                                                ...   \n",
       "106190017           100-149      9120.0    6972.0     1375.0     1514.0  ...   \n",
       "106190034           300-499     65991.0   48013.0    15547.0    12697.0  ...   \n",
       "106190045              1-49      1120.0    1016.0      209.0      279.0  ...   \n",
       "106190053           300-499     24414.0   22547.0     4426.0     3669.0  ...   \n",
       "106190066           100-149         NaN       NaN        NaN        NaN  ...   \n",
       "...                     ...         ...       ...        ...        ...  ...   \n",
       "106194219           300-499         NaN       NaN        NaN        NaN  ...   \n",
       "106196035           200-299     40876.0   33868.0     8536.0     7304.0  ...   \n",
       "106196168           300-499         NaN       NaN        NaN        NaN  ...   \n",
       "106196403           300-499     55056.0   42398.0    11202.0     8601.0  ...   \n",
       "106196405           150-199     36853.0   27750.0     8922.0     7926.0  ...   \n",
       "\n",
       "           DX_Other_Reasons  DX_Perinatal_Disorders  DX_Respiratory_System  \\\n",
       "oshpd_id2                                                                    \n",
       "106190017             155.0                     1.0                 1908.0   \n",
       "106190034            7182.0                   158.0                14634.0   \n",
       "106190045               9.0                     2.0                  182.0   \n",
       "106190053            1597.0                    45.0                 5478.0   \n",
       "106190066               NaN                     NaN                    NaN   \n",
       "...                     ...                     ...                    ...   \n",
       "106194219               NaN                     NaN                    NaN   \n",
       "106196035            1310.0                    66.0                 7487.0   \n",
       "106196168               NaN                     NaN                    NaN   \n",
       "106196403            1276.0                   128.0                 8977.0   \n",
       "106196405            2430.0                    24.0                 8707.0   \n",
       "\n",
       "           DX_Skin_Disorders  DX_Symptoms  DX_Births  ED_Visit  \\\n",
       "oshpd_id2                                                        \n",
       "106190017              672.0       3391.0        NaN   16093.0   \n",
       "106190034             3786.0      24751.0        1.0  114007.0   \n",
       "106190045              102.0        357.0        NaN    2136.0   \n",
       "106190053             2406.0       9689.0        1.0   46973.0   \n",
       "106190066                NaN          NaN        NaN       NaN   \n",
       "...                      ...          ...        ...       ...   \n",
       "106194219                NaN          NaN        NaN       NaN   \n",
       "106196035             2622.0      18048.0        NaN   74748.0   \n",
       "106196168                NaN          NaN        NaN       NaN   \n",
       "106196403             3295.0      28388.0        NaN   97457.0   \n",
       "106196405             2320.0      14305.0        4.0   64603.0   \n",
       "\n",
       "           All_Other_Languages   English  Spanish  \n",
       "oshpd_id2                                          \n",
       "106190017               1493.0   12664.0   1936.0  \n",
       "106190034                642.0  101899.0  11466.0  \n",
       "106190045                 22.0    1419.0    695.0  \n",
       "106190053                251.0   39420.0   7302.0  \n",
       "106190066                  NaN       NaN      NaN  \n",
       "...                        ...       ...      ...  \n",
       "106194219                  NaN       NaN      NaN  \n",
       "106196035               1630.0   61533.0  11585.0  \n",
       "106196168                  NaN       NaN      NaN  \n",
       "106196403                885.0   80346.0  16226.0  \n",
       "106196405                374.0   59449.0   4780.0  \n",
       "\n",
       "[78 rows x 59 columns]"
      ]
     },
     "execution_count": 45,
     "metadata": {},
     "output_type": "execute_result"
    }
   ],
   "source": [
    "LA_ed_data = LA_ed_data.set_index(\"oshpd_id2\")\n",
    "LA_ed_data"
   ]
  },
  {
   "cell_type": "code",
   "execution_count": 46,
   "metadata": {},
   "outputs": [],
   "source": [
    "LA_ed_data.to_csv('LA_ed_data.csv', index=True, header=True)"
   ]
  },
  {
   "cell_type": "code",
   "execution_count": 47,
   "metadata": {},
   "outputs": [
    {
     "data": {
      "text/plain": [
       "78"
      ]
     },
     "execution_count": 47,
     "metadata": {},
     "output_type": "execute_result"
    }
   ],
   "source": [
    "hosp_count = len(LA_ed_data)\n",
    "hosp_count"
   ]
  },
  {
   "cell_type": "code",
   "execution_count": 58,
   "metadata": {},
   "outputs": [
    {
     "data": {
      "text/plain": [
       "licensed_bed_size\n",
       "1-49        1\n",
       "100-149    16\n",
       "150-199     9\n",
       "200-299    16\n",
       "300-499    28\n",
       "50-99       2\n",
       "500+        6\n",
       "Name: facility_name, dtype: int64"
      ]
     },
     "execution_count": 58,
     "metadata": {},
     "output_type": "execute_result"
    }
   ],
   "source": [
    "hosp_size = LA_ed_data.groupby(\"licensed_bed_size\").count()[\"facility_name\"]\n",
    "hosp_size"
   ]
  },
  {
   "cell_type": "code",
   "execution_count": 60,
   "metadata": {},
   "outputs": [
    {
     "data": {
      "text/plain": [
       "control_type_desc\n",
       "City or County                                    3\n",
       "District                                          1\n",
       "Investor - Corporation                           14\n",
       "Investor - Individual                             7\n",
       "Investor - Limited Liability Company              7\n",
       "Non-profit Corporation (incl. Church-related)    44\n",
       "University of California                          2\n",
       "Name: facility_name, dtype: int64"
      ]
     },
     "execution_count": 60,
     "metadata": {},
     "output_type": "execute_result"
    }
   ],
   "source": [
    "hosp_cntrl = LA_ed_data.groupby(\"control_type_desc\").count()[\"facility_name\"]\n",
    "hosp_cntrl"
   ]
  },
  {
   "cell_type": "code",
   "execution_count": 62,
   "metadata": {},
   "outputs": [
    {
     "data": {
      "text/plain": [
       "control_type_desc\n",
       "City or County                                    258031.0\n",
       "District                                          114007.0\n",
       "Investor - Corporation                            372357.0\n",
       "Investor - Individual                             141153.0\n",
       "Investor - Limited Liability Company              133390.0\n",
       "Non-profit Corporation (incl. Church-related)    2140346.0\n",
       "University of California                           78766.0\n",
       "Name: ED_Visit, dtype: float64"
      ]
     },
     "execution_count": 62,
     "metadata": {},
     "output_type": "execute_result"
    }
   ],
   "source": [
    "hosp_type = LA_ed_data.groupby(LA_ed_data[\"control_type_desc\"])\n",
    "\n",
    "ed_by_type = hosp_type[\"ED_Visit\"].sum()\n",
    "ed_by_type"
   ]
  },
  {
   "cell_type": "code",
   "execution_count": 63,
   "metadata": {},
   "outputs": [
    {
     "data": {
      "text/plain": [
       "control_type_desc\n",
       "City or County                                    86010.0\n",
       "District                                         114007.0\n",
       "Investor - Corporation                            26597.0\n",
       "Investor - Individual                             20165.0\n",
       "Investor - Limited Liability Company              19056.0\n",
       "Non-profit Corporation (incl. Church-related)     48644.0\n",
       "University of California                          39383.0\n",
       "dtype: float64"
      ]
     },
     "execution_count": 63,
     "metadata": {},
     "output_type": "execute_result"
    }
   ],
   "source": [
    "ed_avg_by_type = round(ed_by_type / hosp_cntrl)\n",
    "ed_avg_by_type"
   ]
  },
  {
   "cell_type": "code",
   "execution_count": 140,
   "metadata": {},
   "outputs": [
    {
     "data": {
      "text/plain": [
       "control_type_desc\n",
       "City or County                                   189749.0\n",
       "District                                          73628.0\n",
       "Investor - Corporation                           147144.0\n",
       "Investor - Individual                             28615.0\n",
       "Investor - Limited Liability Company              52696.0\n",
       "Non-profit Corporation (incl. Church-related)    937075.0\n",
       "University of California                          25903.0\n",
       "Name: Medi_Cal, dtype: float64"
      ]
     },
     "execution_count": 140,
     "metadata": {},
     "output_type": "execute_result"
    }
   ],
   "source": [
    "payer_by_type_cal = hosp_type[\"Medi_Cal\"].sum()\n",
    "payer_by_type_cal"
   ]
  },
  {
   "cell_type": "code",
   "execution_count": 141,
   "metadata": {},
   "outputs": [
    {
     "data": {
      "text/plain": [
       "control_type_desc\n",
       "City or County                                    18109.0\n",
       "District                                          15533.0\n",
       "Investor - Corporation                            48561.0\n",
       "Investor - Individual                             36848.0\n",
       "Investor - Limited Liability Company              27409.0\n",
       "Non-profit Corporation (incl. Church-related)    350869.0\n",
       "University of California                          12422.0\n",
       "Name: Medicare, dtype: float64"
      ]
     },
     "execution_count": 141,
     "metadata": {},
     "output_type": "execute_result"
    }
   ],
   "source": [
    "payer_by_type_care = hosp_type[\"Medicare\"].sum()\n",
    "payer_by_type_care"
   ]
  },
  {
   "cell_type": "code",
   "execution_count": 143,
   "metadata": {},
   "outputs": [
    {
     "data": {
      "text/plain": [
       "control_type_desc\n",
       "City or County                                   16611.0\n",
       "District                                          3384.0\n",
       "Investor - Corporation                            5277.0\n",
       "Investor - Individual                             2664.0\n",
       "Investor - Limited Liability Company              2049.0\n",
       "Non-profit Corporation (incl. Church-related)    56338.0\n",
       "University of California                          2272.0\n",
       "Name: Other_Payer, dtype: float64"
      ]
     },
     "execution_count": 143,
     "metadata": {},
     "output_type": "execute_result"
    }
   ],
   "source": [
    "payer_by_type_other = hosp_type[\"Other_Payer\"].sum()\n",
    "payer_by_type_other"
   ]
  },
  {
   "cell_type": "code",
   "execution_count": 144,
   "metadata": {},
   "outputs": [
    {
     "data": {
      "text/plain": [
       "control_type_desc\n",
       "City or County                                    13413.0\n",
       "District                                          14544.0\n",
       "Investor - Corporation                           136776.0\n",
       "Investor - Individual                             59605.0\n",
       "Investor - Limited Liability Company              31442.0\n",
       "Non-profit Corporation (incl. Church-related)    644664.0\n",
       "University of California                          33334.0\n",
       "Name: Private_Coverage, dtype: float64"
      ]
     },
     "execution_count": 144,
     "metadata": {},
     "output_type": "execute_result"
    }
   ],
   "source": [
    "payer_by_type_priv = hosp_type[\"Private_Coverage\"].sum()\n",
    "payer_by_type_priv"
   ]
  },
  {
   "cell_type": "code",
   "execution_count": 145,
   "metadata": {},
   "outputs": [
    {
     "data": {
      "text/plain": [
       "control_type_desc\n",
       "City or County                                    19925.0\n",
       "District                                           6916.0\n",
       "Investor - Corporation                            34527.0\n",
       "Investor - Individual                             13392.0\n",
       "Investor - Limited Liability Company              19793.0\n",
       "Non-profit Corporation (incl. Church-related)    150414.0\n",
       "University of California                           4835.0\n",
       "Name: SelfPay, dtype: float64"
      ]
     },
     "execution_count": 145,
     "metadata": {},
     "output_type": "execute_result"
    }
   ],
   "source": [
    "payer_by_type_self = hosp_type[\"SelfPay\"].sum()\n",
    "payer_by_type_self"
   ]
  },
  {
   "cell_type": "code",
   "execution_count": 146,
   "metadata": {},
   "outputs": [
    {
     "data": {
      "text/plain": [
       "control_type_desc\n",
       "City or County                                   224.0\n",
       "District                                           2.0\n",
       "Investor - Corporation                            72.0\n",
       "Investor - Individual                             29.0\n",
       "Investor - Limited Liability Company               1.0\n",
       "Non-profit Corporation (incl. Church-related)    986.0\n",
       "University of California                           0.0\n",
       "Name: Unknown_Payer, dtype: float64"
      ]
     },
     "execution_count": 146,
     "metadata": {},
     "output_type": "execute_result"
    }
   ],
   "source": [
    "payer_by_type_unk = hosp_type[\"Unknown_Payer\"].sum()\n",
    "payer_by_type_unk"
   ]
  },
  {
   "cell_type": "code",
   "execution_count": 142,
   "metadata": {},
   "outputs": [],
   "source": [
    "hosp_loc = LA_ed_data.groupby(\"DBA_CITY\").count()[\"facility_name\"]\n",
    "# hosp_loc"
   ]
  },
  {
   "cell_type": "code",
   "execution_count": 94,
   "metadata": {},
   "outputs": [
    {
     "data": {
      "text/plain": [
       "1758389.0"
      ]
     },
     "execution_count": 94,
     "metadata": {},
     "output_type": "execute_result"
    }
   ],
   "source": [
    "ed_sex_f = (LA_ed_data[\"Sex_Female\"].sum())\n",
    "ed_sex_f"
   ]
  },
  {
   "cell_type": "code",
   "execution_count": 115,
   "metadata": {},
   "outputs": [
    {
     "data": {
      "text/plain": [
       "54.3039483639845"
      ]
     },
     "execution_count": 115,
     "metadata": {},
     "output_type": "execute_result"
    }
   ],
   "source": [
    "ed_sex_f_perc = ed_sex_f / ed_tot*100\n",
    "ed_sex_f_perc"
   ]
  },
  {
   "cell_type": "code",
   "execution_count": 68,
   "metadata": {},
   "outputs": [
    {
     "data": {
      "text/plain": [
       "1479464.0"
      ]
     },
     "execution_count": 68,
     "metadata": {},
     "output_type": "execute_result"
    }
   ],
   "source": [
    "ed_sex_m = (LA_ed_data[\"Sex_Male\"].sum())\n",
    "ed_sex_m"
   ]
  },
  {
   "cell_type": "code",
   "execution_count": 118,
   "metadata": {},
   "outputs": [
    {
     "data": {
      "text/plain": [
       "46.0"
      ]
     },
     "execution_count": 118,
     "metadata": {},
     "output_type": "execute_result"
    }
   ],
   "source": [
    "ed_sex_m_perc = round(ed_sex_m / ed_tot*100)\n",
    "ed_sex_m_perc"
   ]
  },
  {
   "cell_type": "code",
   "execution_count": 91,
   "metadata": {},
   "outputs": [
    {
     "data": {
      "text/plain": [
       "3238050.0"
      ]
     },
     "execution_count": 91,
     "metadata": {},
     "output_type": "execute_result"
    }
   ],
   "source": [
    "ed_tot = (LA_ed_data[\"ED_Visit\"].sum())\n",
    "ed_tot"
   ]
  },
  {
   "cell_type": "code",
   "execution_count": 70,
   "metadata": {},
   "outputs": [
    {
     "data": {
      "text/plain": [
       "83974.0"
      ]
     },
     "execution_count": 70,
     "metadata": {},
     "output_type": "execute_result"
    }
   ],
   "source": [
    "ed_age_U_1 = (LA_ed_data[\"Age_Under_1\"].sum())\n",
    "ed_age_U_1"
   ]
  },
  {
   "cell_type": "code",
   "execution_count": 117,
   "metadata": {},
   "outputs": [
    {
     "data": {
      "text/plain": [
       "3.0"
      ]
     },
     "execution_count": 117,
     "metadata": {},
     "output_type": "execute_result"
    }
   ],
   "source": [
    "ed_age_U_1_perc =  round(ed_age_U_1 / ed_tot*100)\n",
    "ed_age_U_1_perc"
   ]
  },
  {
   "cell_type": "code",
   "execution_count": 71,
   "metadata": {},
   "outputs": [
    {
     "data": {
      "text/plain": [
       "400400.0"
      ]
     },
     "execution_count": 71,
     "metadata": {},
     "output_type": "execute_result"
    }
   ],
   "source": [
    "ed_age_1_9 = (LA_ed_data[\"Age_01_09\"].sum())\n",
    "ed_age_1_9"
   ]
  },
  {
   "cell_type": "code",
   "execution_count": 119,
   "metadata": {},
   "outputs": [
    {
     "data": {
      "text/plain": [
       "12.0"
      ]
     },
     "execution_count": 119,
     "metadata": {},
     "output_type": "execute_result"
    }
   ],
   "source": [
    "ed_age_1_9_perc =  round(ed_age_1_9 / ed_tot*100)\n",
    "ed_age_1_9_perc"
   ]
  },
  {
   "cell_type": "code",
   "execution_count": 72,
   "metadata": {},
   "outputs": [
    {
     "data": {
      "text/plain": [
       "326628.0"
      ]
     },
     "execution_count": 72,
     "metadata": {},
     "output_type": "execute_result"
    }
   ],
   "source": [
    "ed_age_10_19 = (LA_ed_data[\"Age_10_19\"].sum())\n",
    "ed_age_10_19"
   ]
  },
  {
   "cell_type": "code",
   "execution_count": 120,
   "metadata": {},
   "outputs": [
    {
     "data": {
      "text/plain": [
       "10.0"
      ]
     },
     "execution_count": 120,
     "metadata": {},
     "output_type": "execute_result"
    }
   ],
   "source": [
    "ed_age_10_19_perc = round(ed_age_10_19 / ed_tot*100)\n",
    "ed_age_10_19_perc"
   ]
  },
  {
   "cell_type": "code",
   "execution_count": 73,
   "metadata": {},
   "outputs": [
    {
     "data": {
      "text/plain": [
       "548706.0"
      ]
     },
     "execution_count": 73,
     "metadata": {},
     "output_type": "execute_result"
    }
   ],
   "source": [
    "ed_age_20_29 = (LA_ed_data[\"Age_20_29\"].sum())\n",
    "ed_age_20_29"
   ]
  },
  {
   "cell_type": "code",
   "execution_count": 121,
   "metadata": {},
   "outputs": [
    {
     "data": {
      "text/plain": [
       "10.0"
      ]
     },
     "execution_count": 121,
     "metadata": {},
     "output_type": "execute_result"
    }
   ],
   "source": [
    "ed_age_20_29_perc = round(ed_age_10_19 / ed_tot*100)\n",
    "ed_age_20_29_perc"
   ]
  },
  {
   "cell_type": "code",
   "execution_count": 74,
   "metadata": {},
   "outputs": [
    {
     "data": {
      "text/plain": [
       "471801.0"
      ]
     },
     "execution_count": 74,
     "metadata": {},
     "output_type": "execute_result"
    }
   ],
   "source": [
    "ed_age_30_39 = (LA_ed_data[\"Age_30_39\"].sum())\n",
    "ed_age_30_39"
   ]
  },
  {
   "cell_type": "code",
   "execution_count": 122,
   "metadata": {},
   "outputs": [
    {
     "data": {
      "text/plain": [
       "15.0"
      ]
     },
     "execution_count": 122,
     "metadata": {},
     "output_type": "execute_result"
    }
   ],
   "source": [
    "ed_age_30_39_perc = round(ed_age_30_39 / ed_tot*100)\n",
    "ed_age_30_39_perc"
   ]
  },
  {
   "cell_type": "code",
   "execution_count": 75,
   "metadata": {},
   "outputs": [
    {
     "data": {
      "text/plain": [
       "390968.0"
      ]
     },
     "execution_count": 75,
     "metadata": {},
     "output_type": "execute_result"
    }
   ],
   "source": [
    "ed_age_40_49 = (LA_ed_data[\"Age_40_49\"].sum())\n",
    "ed_age_40_49"
   ]
  },
  {
   "cell_type": "code",
   "execution_count": 123,
   "metadata": {},
   "outputs": [
    {
     "data": {
      "text/plain": [
       "12.0"
      ]
     },
     "execution_count": 123,
     "metadata": {},
     "output_type": "execute_result"
    }
   ],
   "source": [
    "ed_age_40_49_perc = round(ed_age_40_49 / ed_tot*100)\n",
    "ed_age_40_49_perc"
   ]
  },
  {
   "cell_type": "code",
   "execution_count": 76,
   "metadata": {},
   "outputs": [
    {
     "data": {
      "text/plain": [
       "392989.0"
      ]
     },
     "execution_count": 76,
     "metadata": {},
     "output_type": "execute_result"
    }
   ],
   "source": [
    "ed_age_50_59 = (LA_ed_data[\"Age_50_59\"].sum())\n",
    "ed_age_50_59"
   ]
  },
  {
   "cell_type": "code",
   "execution_count": 124,
   "metadata": {},
   "outputs": [
    {
     "data": {
      "text/plain": [
       "12.0"
      ]
     },
     "execution_count": 124,
     "metadata": {},
     "output_type": "execute_result"
    }
   ],
   "source": [
    "ed_age_50_59_perc = round(ed_age_50_59 / ed_tot*100)\n",
    "ed_age_50_59_perc"
   ]
  },
  {
   "cell_type": "code",
   "execution_count": 77,
   "metadata": {},
   "outputs": [
    {
     "data": {
      "text/plain": [
       "291179.0"
      ]
     },
     "execution_count": 77,
     "metadata": {},
     "output_type": "execute_result"
    }
   ],
   "source": [
    "ed_age_60_69 = (LA_ed_data[\"Age_60_69\"].sum())\n",
    "ed_age_60_69"
   ]
  },
  {
   "cell_type": "code",
   "execution_count": 125,
   "metadata": {},
   "outputs": [
    {
     "data": {
      "text/plain": [
       "9.0"
      ]
     },
     "execution_count": 125,
     "metadata": {},
     "output_type": "execute_result"
    }
   ],
   "source": [
    "ed_age_60_69_perc = round(ed_age_60_69 /  ed_tot*100)\n",
    "ed_age_60_69_perc"
   ]
  },
  {
   "cell_type": "code",
   "execution_count": 78,
   "metadata": {},
   "outputs": [
    {
     "data": {
      "text/plain": [
       "177748.0"
      ]
     },
     "execution_count": 78,
     "metadata": {},
     "output_type": "execute_result"
    }
   ],
   "source": [
    "ed_age_70_79 = (LA_ed_data[\"Age_70_79\"].sum())\n",
    "ed_age_70_79"
   ]
  },
  {
   "cell_type": "code",
   "execution_count": 126,
   "metadata": {},
   "outputs": [
    {
     "data": {
      "text/plain": [
       "5.0"
      ]
     },
     "execution_count": 126,
     "metadata": {},
     "output_type": "execute_result"
    }
   ],
   "source": [
    "ed_age_70_79_perc = round(ed_age_70_79 / ed_tot*100)\n",
    "ed_age_70_79_perc"
   ]
  },
  {
   "cell_type": "code",
   "execution_count": 79,
   "metadata": {},
   "outputs": [
    {
     "data": {
      "text/plain": [
       "153491.0"
      ]
     },
     "execution_count": 79,
     "metadata": {},
     "output_type": "execute_result"
    }
   ],
   "source": [
    "ed_age_80 = (LA_ed_data[\"Age_80_\"].sum())\n",
    "ed_age_80"
   ]
  },
  {
   "cell_type": "code",
   "execution_count": 127,
   "metadata": {},
   "outputs": [
    {
     "data": {
      "text/plain": [
       "5.0"
      ]
     },
     "execution_count": 127,
     "metadata": {},
     "output_type": "execute_result"
    }
   ],
   "source": [
    "ed_age_80_perc = round(ed_age_80 / ed_tot*100)\n",
    "ed_age_80_perc"
   ]
  },
  {
   "cell_type": "code",
   "execution_count": 80,
   "metadata": {},
   "outputs": [
    {
     "data": {
      "text/plain": [
       "1664211.0"
      ]
     },
     "execution_count": 80,
     "metadata": {},
     "output_type": "execute_result"
    }
   ],
   "source": [
    "ed_et_hisp = (LA_ed_data[\"Hispanic or Latino\"].sum())\n",
    "ed_et_hisp"
   ]
  },
  {
   "cell_type": "code",
   "execution_count": 128,
   "metadata": {},
   "outputs": [
    {
     "data": {
      "text/plain": [
       "51.0"
      ]
     },
     "execution_count": 128,
     "metadata": {},
     "output_type": "execute_result"
    }
   ],
   "source": [
    "ed_et_hisp_perc = round(ed_et_hisp / ed_tot*100)\n",
    "ed_et_hisp_perc"
   ]
  },
  {
   "cell_type": "code",
   "execution_count": 81,
   "metadata": {},
   "outputs": [
    {
     "data": {
      "text/plain": [
       "1530242.0"
      ]
     },
     "execution_count": 81,
     "metadata": {},
     "output_type": "execute_result"
    }
   ],
   "source": [
    "ed_et_non_hisp = (LA_ed_data[\"Non-Hispanic or Non-Latino\"].sum())\n",
    "ed_et_non_hisp"
   ]
  },
  {
   "cell_type": "code",
   "execution_count": 129,
   "metadata": {},
   "outputs": [
    {
     "data": {
      "text/plain": [
       "47.0"
      ]
     },
     "execution_count": 129,
     "metadata": {},
     "output_type": "execute_result"
    }
   ],
   "source": [
    "ed_et_non_hisp_perc = round(ed_et_non_hisp /  ed_tot*100)\n",
    "ed_et_non_hisp_perc"
   ]
  },
  {
   "cell_type": "code",
   "execution_count": 82,
   "metadata": {},
   "outputs": [
    {
     "data": {
      "text/plain": [
       "42647.0"
      ]
     },
     "execution_count": 82,
     "metadata": {},
     "output_type": "execute_result"
    }
   ],
   "source": [
    "ed_et_unk = (LA_ed_data[\"Unknown_Eth\"].sum())\n",
    "ed_et_unk"
   ]
  },
  {
   "cell_type": "code",
   "execution_count": 130,
   "metadata": {},
   "outputs": [
    {
     "data": {
      "text/plain": [
       "1.0"
      ]
     },
     "execution_count": 130,
     "metadata": {},
     "output_type": "execute_result"
    }
   ],
   "source": [
    "ed_et_unk_perc = round(ed_et_unk / ed_tot*100)\n",
    "ed_et_unk_perc"
   ]
  },
  {
   "cell_type": "code",
   "execution_count": 83,
   "metadata": {},
   "outputs": [
    {
     "data": {
      "text/plain": [
       "1454810.0"
      ]
     },
     "execution_count": 83,
     "metadata": {},
     "output_type": "execute_result"
    }
   ],
   "source": [
    "ed_payer_Cal = (LA_ed_data[\"Medi_Cal\"].sum())\n",
    "ed_payer_Cal"
   ]
  },
  {
   "cell_type": "code",
   "execution_count": 131,
   "metadata": {},
   "outputs": [
    {
     "data": {
      "text/plain": [
       "45.0"
      ]
     },
     "execution_count": 131,
     "metadata": {},
     "output_type": "execute_result"
    }
   ],
   "source": [
    "ed_payer_Cal_perc = round(ed_payer_Cal / ed_tot*100)\n",
    "ed_payer_Cal_perc"
   ]
  },
  {
   "cell_type": "code",
   "execution_count": 84,
   "metadata": {},
   "outputs": [
    {
     "data": {
      "text/plain": [
       "509751.0"
      ]
     },
     "execution_count": 84,
     "metadata": {},
     "output_type": "execute_result"
    }
   ],
   "source": [
    "ed_payer_Care = (LA_ed_data[\"Medicare\"].sum())\n",
    "ed_payer_Care"
   ]
  },
  {
   "cell_type": "code",
   "execution_count": 132,
   "metadata": {},
   "outputs": [
    {
     "data": {
      "text/plain": [
       "16.0"
      ]
     },
     "execution_count": 132,
     "metadata": {},
     "output_type": "execute_result"
    }
   ],
   "source": [
    "ed_payer_Care_perc = round(ed_payer_Care / ed_tot*100)\n",
    "ed_payer_Care_perc"
   ]
  },
  {
   "cell_type": "code",
   "execution_count": 85,
   "metadata": {},
   "outputs": [
    {
     "data": {
      "text/plain": [
       "88595.0"
      ]
     },
     "execution_count": 85,
     "metadata": {},
     "output_type": "execute_result"
    }
   ],
   "source": [
    "ed_payer_other = (LA_ed_data[\"Other_Payer\"].sum())\n",
    "ed_payer_other"
   ]
  },
  {
   "cell_type": "code",
   "execution_count": 133,
   "metadata": {},
   "outputs": [
    {
     "data": {
      "text/plain": [
       "3.0"
      ]
     },
     "execution_count": 133,
     "metadata": {},
     "output_type": "execute_result"
    }
   ],
   "source": [
    "ed_payer_other_perc = round(ed_payer_other / ed_tot*100)\n",
    "ed_payer_other_perc"
   ]
  },
  {
   "cell_type": "code",
   "execution_count": 86,
   "metadata": {},
   "outputs": [
    {
     "data": {
      "text/plain": [
       "933778.0"
      ]
     },
     "execution_count": 86,
     "metadata": {},
     "output_type": "execute_result"
    }
   ],
   "source": [
    "ed_payer_priv = (LA_ed_data[\"Private_Coverage\"].sum())\n",
    "ed_payer_priv"
   ]
  },
  {
   "cell_type": "code",
   "execution_count": 134,
   "metadata": {},
   "outputs": [
    {
     "data": {
      "text/plain": [
       "29.0"
      ]
     },
     "execution_count": 134,
     "metadata": {},
     "output_type": "execute_result"
    }
   ],
   "source": [
    "ed_payer_priv_perc = round(ed_payer_priv / ed_tot*100)\n",
    "ed_payer_priv_perc"
   ]
  },
  {
   "cell_type": "code",
   "execution_count": 87,
   "metadata": {},
   "outputs": [
    {
     "data": {
      "text/plain": [
       "249802.0"
      ]
     },
     "execution_count": 87,
     "metadata": {},
     "output_type": "execute_result"
    }
   ],
   "source": [
    "ed_payer_self = (LA_ed_data[\"SelfPay\"].sum())\n",
    "ed_payer_self"
   ]
  },
  {
   "cell_type": "code",
   "execution_count": 135,
   "metadata": {},
   "outputs": [
    {
     "data": {
      "text/plain": [
       "8.0"
      ]
     },
     "execution_count": 135,
     "metadata": {},
     "output_type": "execute_result"
    }
   ],
   "source": [
    "ed_payer_self_perc = round(ed_payer_self / ed_tot*100)\n",
    "ed_payer_self_perc"
   ]
  },
  {
   "cell_type": "code",
   "execution_count": 88,
   "metadata": {},
   "outputs": [
    {
     "data": {
      "text/plain": [
       "1314.0"
      ]
     },
     "execution_count": 88,
     "metadata": {},
     "output_type": "execute_result"
    }
   ],
   "source": [
    "ed_payer_unk = (LA_ed_data[\"Unknown_Payer\"].sum())\n",
    "ed_payer_unk"
   ]
  },
  {
   "cell_type": "code",
   "execution_count": 137,
   "metadata": {},
   "outputs": [
    {
     "data": {
      "text/plain": [
       "0.04057997869087877"
      ]
     },
     "execution_count": 137,
     "metadata": {},
     "output_type": "execute_result"
    }
   ],
   "source": [
    "ed_payer_unk_perc = ed_payer_unk / ed_tot*100\n",
    "ed_payer_unk_perc"
   ]
  },
  {
   "cell_type": "code",
   "execution_count": 90,
   "metadata": {},
   "outputs": [
    {
     "data": {
      "text/plain": [
       "773914.0"
      ]
     },
     "execution_count": 90,
     "metadata": {},
     "output_type": "execute_result"
    }
   ],
   "source": [
    "ed_symp = (LA_ed_data[\"DX_Symptoms\"].sum())\n",
    "ed_symp"
   ]
  },
  {
   "cell_type": "code",
   "execution_count": 138,
   "metadata": {},
   "outputs": [
    {
     "data": {
      "text/plain": [
       "24.0"
      ]
     },
     "execution_count": 138,
     "metadata": {},
     "output_type": "execute_result"
    }
   ],
   "source": [
    "ed_symp_perc = round(ed_symp / ed_tot*100)\n",
    "ed_symp_perc"
   ]
  },
  {
   "cell_type": "code",
   "execution_count": 147,
   "metadata": {},
   "outputs": [
    {
     "data": {
      "text/plain": [
       "616727.0"
      ]
     },
     "execution_count": 147,
     "metadata": {},
     "output_type": "execute_result"
    }
   ],
   "source": [
    "ed_inj = (LA_ed_data[\"DX_Injuries_Poisonings\"].sum())\n",
    "ed_inj"
   ]
  },
  {
   "cell_type": "code",
   "execution_count": 148,
   "metadata": {},
   "outputs": [
    {
     "data": {
      "text/plain": [
       "19.0"
      ]
     },
     "execution_count": 148,
     "metadata": {},
     "output_type": "execute_result"
    }
   ],
   "source": [
    "ed_inj_perc = round(ed_inj / ed_tot*100)\n",
    "ed_inj_perc"
   ]
  },
  {
   "cell_type": "code",
   "execution_count": 149,
   "metadata": {},
   "outputs": [
    {
     "data": {
      "text/plain": [
       "339606.0"
      ]
     },
     "execution_count": 149,
     "metadata": {},
     "output_type": "execute_result"
    }
   ],
   "source": [
    "ed_resp = (LA_ed_data[\"DX_Respiratory_System\"].sum())\n",
    "ed_resp"
   ]
  },
  {
   "cell_type": "code",
   "execution_count": 150,
   "metadata": {},
   "outputs": [
    {
     "data": {
      "text/plain": [
       "10.0"
      ]
     },
     "execution_count": 150,
     "metadata": {},
     "output_type": "execute_result"
    }
   ],
   "source": [
    "ed_resp_perc = round(ed_resp / ed_tot*100)\n",
    "ed_resp_perc"
   ]
  },
  {
   "cell_type": "code",
   "execution_count": 151,
   "metadata": {},
   "outputs": [
    {
     "data": {
      "text/plain": [
       "236675.0"
      ]
     },
     "execution_count": 151,
     "metadata": {},
     "output_type": "execute_result"
    }
   ],
   "source": [
    "ed_musc = (LA_ed_data[\"DX_Musculoskeletal_System\"].sum())\n",
    "ed_musc"
   ]
  },
  {
   "cell_type": "code",
   "execution_count": 152,
   "metadata": {},
   "outputs": [
    {
     "data": {
      "text/plain": [
       "7.0"
      ]
     },
     "execution_count": 152,
     "metadata": {},
     "output_type": "execute_result"
    }
   ],
   "source": [
    "ed_musc_perc = round(ed_musc / ed_tot*100)\n",
    "ed_musc_perc"
   ]
  },
  {
   "cell_type": "code",
   "execution_count": null,
   "metadata": {},
   "outputs": [],
   "source": []
  }
 ],
 "metadata": {
  "kernelspec": {
   "display_name": "Python 3",
   "language": "python",
   "name": "python3"
  },
  "language_info": {
   "codemirror_mode": {
    "name": "ipython",
    "version": 3
   },
   "file_extension": ".py",
   "mimetype": "text/x-python",
   "name": "python",
   "nbconvert_exporter": "python",
   "pygments_lexer": "ipython3",
   "version": "3.7.6"
  }
 },
 "nbformat": 4,
 "nbformat_minor": 4
}
