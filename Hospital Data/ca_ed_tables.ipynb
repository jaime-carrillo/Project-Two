{
 "cells": [
  {
   "cell_type": "code",
   "execution_count": 2,
   "metadata": {},
   "outputs": [],
   "source": [
    "import pandas as pd\n",
    "import numpy as np\n",
    "import csv"
   ]
  },
  {
   "cell_type": "code",
   "execution_count": 3,
   "metadata": {},
   "outputs": [],
   "source": [
    "CA_ed_data = pd.read_csv('2018_ed_data.csv')\n",
    "# CA_ed_data"
   ]
  },
  {
   "cell_type": "code",
   "execution_count": 4,
   "metadata": {},
   "outputs": [
    {
     "data": {
      "text/plain": [
       "80"
      ]
     },
     "execution_count": 4,
     "metadata": {},
     "output_type": "execute_result"
    }
   ],
   "source": [
    "LA_ed = CA_ed_data.loc[CA_ed_data[\"county_name\"] == \"LOS ANGELES\"]\n",
    "# LA_ed.head()\n",
    "len(LA_ed)"
   ]
  },
  {
   "cell_type": "code",
   "execution_count": 5,
   "metadata": {},
   "outputs": [
    {
     "data": {
      "text/plain": [
       "78"
      ]
     },
     "execution_count": 5,
     "metadata": {},
     "output_type": "execute_result"
    }
   ],
   "source": [
    "LA_ed_df = LA_ed.loc[LA_ed[\"LICENSE_CATEGORY_DESC\"] == \"General Acute Care Hospital\"]\n",
    "LA_ed_df.head()\n",
    "len(LA_ed_df)"
   ]
  },
  {
   "cell_type": "code",
   "execution_count": 6,
   "metadata": {},
   "outputs": [],
   "source": [
    "LA_ed_data = LA_ed_df[[\"oshpd_id2\",\"facility_name\",\"control_type_desc\", \"DBA_ADDRESS1\", \"DBA_CITY\", \"DBA_ZIP_CODE\", \"licensed_bed_size\", \"Sex_Female\",\"Sex_Male\",\"Age_01_09\",\"Age_10_19\",\"Age_20_29\", \"Age_30_39\", \"Age_40_49\", \"Age_50_59\", \"Age_60_69\", \"Age_70_79\",\"Age_80_\", \"Age_Under_1\", \"Hispanic or Latino\", \"Non-Hispanic or Non-Latino\",\"Unknown_Eth\", \"Acute_Care\", \"Against_Medical_Advice\", \"Died\", \"Other_Disp\", \"Prison_Jail\", \"Psychiatric_Care\", \"Routine\", \"Medi_Cal\", \"Medicare\", \"Other_Payer\", \"Private_Coverage\",\"SelfPay\", \"Unknown_Payer\", \"DX_All_Pregnancies\", \"DX_Birth_Defects\", \"DX_Blood_Disorders\", \"DX_Cancer\",\"DX_Circulatory_System\", \"DX_Digestive_System\", \"DX_Ear_Disorders\", \"DX_Endocrine_Diseases\", \"DX_Eye_Disorders\", \"DX_Genitourinary_System\",\"DX_Infections\", \"DX_Injuries_Poisonings\", \"DX_Mental_Disorders\", \"DX_Musculoskeletal_System\", \"DX_Nervous_System\", \"DX_Other_Reasons\", \"DX_Perinatal_Disorders\", \"DX_Respiratory_System\", \"DX_Skin_Disorders\", \"DX_Symptoms\",\"DX_Births\", \"ED_Visit\", \"All_Other_Languages\", \"English\", \"Spanish\"]]\n",
    "# LA_ed_data"
   ]
  },
  {
   "cell_type": "code",
   "execution_count": 7,
   "metadata": {},
   "outputs": [],
   "source": [
    "LA_ed_data = LA_ed_data.set_index(\"oshpd_id2\")\n",
    "# LA_ed_data"
   ]
  },
  {
   "cell_type": "code",
   "execution_count": 75,
   "metadata": {},
   "outputs": [
    {
     "ename": "PermissionError",
     "evalue": "[Errno 13] Permission denied: 'LA_ed_data.csv'",
     "output_type": "error",
     "traceback": [
      "\u001b[1;31m---------------------------------------------------------------------------\u001b[0m",
      "\u001b[1;31mPermissionError\u001b[0m                           Traceback (most recent call last)",
      "\u001b[1;32m<ipython-input-75-64727eae6575>\u001b[0m in \u001b[0;36m<module>\u001b[1;34m\u001b[0m\n\u001b[1;32m----> 1\u001b[1;33m \u001b[0mLA_ed_data\u001b[0m\u001b[1;33m.\u001b[0m\u001b[0mto_csv\u001b[0m\u001b[1;33m(\u001b[0m\u001b[1;34m'LA_ed_data.csv'\u001b[0m\u001b[1;33m,\u001b[0m \u001b[0mindex\u001b[0m\u001b[1;33m=\u001b[0m\u001b[1;32mTrue\u001b[0m\u001b[1;33m,\u001b[0m \u001b[0mheader\u001b[0m\u001b[1;33m=\u001b[0m\u001b[1;32mTrue\u001b[0m\u001b[1;33m)\u001b[0m\u001b[1;33m\u001b[0m\u001b[1;33m\u001b[0m\u001b[0m\n\u001b[0m",
      "\u001b[1;32m~\\Anaconda3\\lib\\site-packages\\pandas\\core\\generic.py\u001b[0m in \u001b[0;36mto_csv\u001b[1;34m(self, path_or_buf, sep, na_rep, float_format, columns, header, index, index_label, mode, encoding, compression, quoting, quotechar, line_terminator, chunksize, date_format, doublequote, escapechar, decimal)\u001b[0m\n\u001b[0;32m   3202\u001b[0m             \u001b[0mdecimal\u001b[0m\u001b[1;33m=\u001b[0m\u001b[0mdecimal\u001b[0m\u001b[1;33m,\u001b[0m\u001b[1;33m\u001b[0m\u001b[1;33m\u001b[0m\u001b[0m\n\u001b[0;32m   3203\u001b[0m         )\n\u001b[1;32m-> 3204\u001b[1;33m         \u001b[0mformatter\u001b[0m\u001b[1;33m.\u001b[0m\u001b[0msave\u001b[0m\u001b[1;33m(\u001b[0m\u001b[1;33m)\u001b[0m\u001b[1;33m\u001b[0m\u001b[1;33m\u001b[0m\u001b[0m\n\u001b[0m\u001b[0;32m   3205\u001b[0m \u001b[1;33m\u001b[0m\u001b[0m\n\u001b[0;32m   3206\u001b[0m         \u001b[1;32mif\u001b[0m \u001b[0mpath_or_buf\u001b[0m \u001b[1;32mis\u001b[0m \u001b[1;32mNone\u001b[0m\u001b[1;33m:\u001b[0m\u001b[1;33m\u001b[0m\u001b[1;33m\u001b[0m\u001b[0m\n",
      "\u001b[1;32m~\\Anaconda3\\lib\\site-packages\\pandas\\io\\formats\\csvs.py\u001b[0m in \u001b[0;36msave\u001b[1;34m(self)\u001b[0m\n\u001b[0;32m    186\u001b[0m                 \u001b[0mself\u001b[0m\u001b[1;33m.\u001b[0m\u001b[0mmode\u001b[0m\u001b[1;33m,\u001b[0m\u001b[1;33m\u001b[0m\u001b[1;33m\u001b[0m\u001b[0m\n\u001b[0;32m    187\u001b[0m                 \u001b[0mencoding\u001b[0m\u001b[1;33m=\u001b[0m\u001b[0mself\u001b[0m\u001b[1;33m.\u001b[0m\u001b[0mencoding\u001b[0m\u001b[1;33m,\u001b[0m\u001b[1;33m\u001b[0m\u001b[1;33m\u001b[0m\u001b[0m\n\u001b[1;32m--> 188\u001b[1;33m                 \u001b[0mcompression\u001b[0m\u001b[1;33m=\u001b[0m\u001b[0mdict\u001b[0m\u001b[1;33m(\u001b[0m\u001b[0mself\u001b[0m\u001b[1;33m.\u001b[0m\u001b[0mcompression_args\u001b[0m\u001b[1;33m,\u001b[0m \u001b[0mmethod\u001b[0m\u001b[1;33m=\u001b[0m\u001b[0mself\u001b[0m\u001b[1;33m.\u001b[0m\u001b[0mcompression\u001b[0m\u001b[1;33m)\u001b[0m\u001b[1;33m,\u001b[0m\u001b[1;33m\u001b[0m\u001b[1;33m\u001b[0m\u001b[0m\n\u001b[0m\u001b[0;32m    189\u001b[0m             )\n\u001b[0;32m    190\u001b[0m             \u001b[0mclose\u001b[0m \u001b[1;33m=\u001b[0m \u001b[1;32mTrue\u001b[0m\u001b[1;33m\u001b[0m\u001b[1;33m\u001b[0m\u001b[0m\n",
      "\u001b[1;32m~\\Anaconda3\\lib\\site-packages\\pandas\\io\\common.py\u001b[0m in \u001b[0;36mget_handle\u001b[1;34m(path_or_buf, mode, encoding, compression, memory_map, is_text)\u001b[0m\n\u001b[0;32m    426\u001b[0m         \u001b[1;32mif\u001b[0m \u001b[0mencoding\u001b[0m\u001b[1;33m:\u001b[0m\u001b[1;33m\u001b[0m\u001b[1;33m\u001b[0m\u001b[0m\n\u001b[0;32m    427\u001b[0m             \u001b[1;31m# Encoding\u001b[0m\u001b[1;33m\u001b[0m\u001b[1;33m\u001b[0m\u001b[1;33m\u001b[0m\u001b[0m\n\u001b[1;32m--> 428\u001b[1;33m             \u001b[0mf\u001b[0m \u001b[1;33m=\u001b[0m \u001b[0mopen\u001b[0m\u001b[1;33m(\u001b[0m\u001b[0mpath_or_buf\u001b[0m\u001b[1;33m,\u001b[0m \u001b[0mmode\u001b[0m\u001b[1;33m,\u001b[0m \u001b[0mencoding\u001b[0m\u001b[1;33m=\u001b[0m\u001b[0mencoding\u001b[0m\u001b[1;33m,\u001b[0m \u001b[0mnewline\u001b[0m\u001b[1;33m=\u001b[0m\u001b[1;34m\"\"\u001b[0m\u001b[1;33m)\u001b[0m\u001b[1;33m\u001b[0m\u001b[1;33m\u001b[0m\u001b[0m\n\u001b[0m\u001b[0;32m    429\u001b[0m         \u001b[1;32melif\u001b[0m \u001b[0mis_text\u001b[0m\u001b[1;33m:\u001b[0m\u001b[1;33m\u001b[0m\u001b[1;33m\u001b[0m\u001b[0m\n\u001b[0;32m    430\u001b[0m             \u001b[1;31m# No explicit encoding\u001b[0m\u001b[1;33m\u001b[0m\u001b[1;33m\u001b[0m\u001b[1;33m\u001b[0m\u001b[0m\n",
      "\u001b[1;31mPermissionError\u001b[0m: [Errno 13] Permission denied: 'LA_ed_data.csv'"
     ]
    }
   ],
   "source": [
    "LA_ed_data.to_csv('LA_ed_data.csv', index=True, header=True)"
   ]
  },
  {
   "cell_type": "code",
   "execution_count": 8,
   "metadata": {},
   "outputs": [
    {
     "data": {
      "text/plain": [
       "78"
      ]
     },
     "execution_count": 8,
     "metadata": {},
     "output_type": "execute_result"
    }
   ],
   "source": [
    "hosp_count = len(LA_ed_data)\n",
    "hosp_count"
   ]
  },
  {
   "cell_type": "code",
   "execution_count": 9,
   "metadata": {},
   "outputs": [
    {
     "data": {
      "text/plain": [
       "licensed_bed_size\n",
       "1-49        1\n",
       "100-149    16\n",
       "150-199     9\n",
       "200-299    16\n",
       "300-499    28\n",
       "50-99       2\n",
       "500+        6\n",
       "Name: facility_name, dtype: int64"
      ]
     },
     "execution_count": 9,
     "metadata": {},
     "output_type": "execute_result"
    }
   ],
   "source": [
    "hosp_size = LA_ed_data.groupby(\"licensed_bed_size\").count()[\"facility_name\"]\n",
    "hosp_size"
   ]
  },
  {
   "cell_type": "code",
   "execution_count": 10,
   "metadata": {},
   "outputs": [
    {
     "data": {
      "text/plain": [
       "control_type_desc\n",
       "City or County                                    3\n",
       "District                                          1\n",
       "Investor - Corporation                           14\n",
       "Investor - Individual                             7\n",
       "Investor - Limited Liability Company              7\n",
       "Non-profit Corporation (incl. Church-related)    44\n",
       "University of California                          2\n",
       "Name: facility_name, dtype: int64"
      ]
     },
     "execution_count": 10,
     "metadata": {},
     "output_type": "execute_result"
    }
   ],
   "source": [
    "hosp_cntrl = LA_ed_data.groupby(\"control_type_desc\").count()[\"facility_name\"]\n",
    "hosp_cntrl"
   ]
  },
  {
   "cell_type": "code",
   "execution_count": 11,
   "metadata": {},
   "outputs": [
    {
     "data": {
      "text/plain": [
       "control_type_desc\n",
       "City or County                                    258031.0\n",
       "District                                          114007.0\n",
       "Investor - Corporation                            372357.0\n",
       "Investor - Individual                             141153.0\n",
       "Investor - Limited Liability Company              133390.0\n",
       "Non-profit Corporation (incl. Church-related)    2140346.0\n",
       "University of California                           78766.0\n",
       "Name: ED_Visit, dtype: float64"
      ]
     },
     "execution_count": 11,
     "metadata": {},
     "output_type": "execute_result"
    }
   ],
   "source": [
    "hosp_type = LA_ed_data.groupby(LA_ed_data[\"control_type_desc\"])\n",
    "\n",
    "ed_by_type = hosp_type[\"ED_Visit\"].sum()\n",
    "ed_by_type"
   ]
  },
  {
   "cell_type": "code",
   "execution_count": 12,
   "metadata": {},
   "outputs": [
    {
     "data": {
      "text/plain": [
       "control_type_desc\n",
       "City or County                                    86010.0\n",
       "District                                         114007.0\n",
       "Investor - Corporation                            26597.0\n",
       "Investor - Individual                             20165.0\n",
       "Investor - Limited Liability Company              19056.0\n",
       "Non-profit Corporation (incl. Church-related)     48644.0\n",
       "University of California                          39383.0\n",
       "dtype: float64"
      ]
     },
     "execution_count": 12,
     "metadata": {},
     "output_type": "execute_result"
    }
   ],
   "source": [
    "ed_avg_by_type = round(ed_by_type / hosp_cntrl)\n",
    "ed_avg_by_type"
   ]
  },
  {
   "cell_type": "code",
   "execution_count": 13,
   "metadata": {},
   "outputs": [
    {
     "data": {
      "text/plain": [
       "control_type_desc\n",
       "City or County                                   189749.0\n",
       "District                                          73628.0\n",
       "Investor - Corporation                           147144.0\n",
       "Investor - Individual                             28615.0\n",
       "Investor - Limited Liability Company              52696.0\n",
       "Non-profit Corporation (incl. Church-related)    937075.0\n",
       "University of California                          25903.0\n",
       "Name: Medi_Cal, dtype: float64"
      ]
     },
     "execution_count": 13,
     "metadata": {},
     "output_type": "execute_result"
    }
   ],
   "source": [
    "payer_by_type_cal = hosp_type[\"Medi_Cal\"].sum()\n",
    "payer_by_type_cal"
   ]
  },
  {
   "cell_type": "code",
   "execution_count": 14,
   "metadata": {},
   "outputs": [
    {
     "data": {
      "text/plain": [
       "control_type_desc\n",
       "City or County                                    18109.0\n",
       "District                                          15533.0\n",
       "Investor - Corporation                            48561.0\n",
       "Investor - Individual                             36848.0\n",
       "Investor - Limited Liability Company              27409.0\n",
       "Non-profit Corporation (incl. Church-related)    350869.0\n",
       "University of California                          12422.0\n",
       "Name: Medicare, dtype: float64"
      ]
     },
     "execution_count": 14,
     "metadata": {},
     "output_type": "execute_result"
    }
   ],
   "source": [
    "payer_by_type_care = hosp_type[\"Medicare\"].sum()\n",
    "payer_by_type_care"
   ]
  },
  {
   "cell_type": "code",
   "execution_count": 15,
   "metadata": {},
   "outputs": [
    {
     "data": {
      "text/plain": [
       "control_type_desc\n",
       "City or County                                   16611.0\n",
       "District                                          3384.0\n",
       "Investor - Corporation                            5277.0\n",
       "Investor - Individual                             2664.0\n",
       "Investor - Limited Liability Company              2049.0\n",
       "Non-profit Corporation (incl. Church-related)    56338.0\n",
       "University of California                          2272.0\n",
       "Name: Other_Payer, dtype: float64"
      ]
     },
     "execution_count": 15,
     "metadata": {},
     "output_type": "execute_result"
    }
   ],
   "source": [
    "payer_by_type_other = hosp_type[\"Other_Payer\"].sum()\n",
    "payer_by_type_other"
   ]
  },
  {
   "cell_type": "code",
   "execution_count": 16,
   "metadata": {},
   "outputs": [
    {
     "data": {
      "text/plain": [
       "control_type_desc\n",
       "City or County                                    13413.0\n",
       "District                                          14544.0\n",
       "Investor - Corporation                           136776.0\n",
       "Investor - Individual                             59605.0\n",
       "Investor - Limited Liability Company              31442.0\n",
       "Non-profit Corporation (incl. Church-related)    644664.0\n",
       "University of California                          33334.0\n",
       "Name: Private_Coverage, dtype: float64"
      ]
     },
     "execution_count": 16,
     "metadata": {},
     "output_type": "execute_result"
    }
   ],
   "source": [
    "payer_by_type_priv = hosp_type[\"Private_Coverage\"].sum()\n",
    "payer_by_type_priv"
   ]
  },
  {
   "cell_type": "code",
   "execution_count": 17,
   "metadata": {},
   "outputs": [
    {
     "data": {
      "text/plain": [
       "control_type_desc\n",
       "City or County                                    19925.0\n",
       "District                                           6916.0\n",
       "Investor - Corporation                            34527.0\n",
       "Investor - Individual                             13392.0\n",
       "Investor - Limited Liability Company              19793.0\n",
       "Non-profit Corporation (incl. Church-related)    150414.0\n",
       "University of California                           4835.0\n",
       "Name: SelfPay, dtype: float64"
      ]
     },
     "execution_count": 17,
     "metadata": {},
     "output_type": "execute_result"
    }
   ],
   "source": [
    "payer_by_type_self = hosp_type[\"SelfPay\"].sum()\n",
    "payer_by_type_self"
   ]
  },
  {
   "cell_type": "code",
   "execution_count": 18,
   "metadata": {},
   "outputs": [
    {
     "data": {
      "text/plain": [
       "control_type_desc\n",
       "City or County                                   224.0\n",
       "District                                           2.0\n",
       "Investor - Corporation                            72.0\n",
       "Investor - Individual                             29.0\n",
       "Investor - Limited Liability Company               1.0\n",
       "Non-profit Corporation (incl. Church-related)    986.0\n",
       "University of California                           0.0\n",
       "Name: Unknown_Payer, dtype: float64"
      ]
     },
     "execution_count": 18,
     "metadata": {},
     "output_type": "execute_result"
    }
   ],
   "source": [
    "payer_by_type_unk = hosp_type[\"Unknown_Payer\"].sum()\n",
    "payer_by_type_unk"
   ]
  },
  {
   "cell_type": "code",
   "execution_count": 19,
   "metadata": {},
   "outputs": [
    {
     "data": {
      "text/plain": [
       "DBA_CITY\n",
       "ALHAMBRA            1\n",
       "ARCADIA             1\n",
       "AVALON              1\n",
       "BALDWIN PARK        1\n",
       "BELLFLOWER          1\n",
       "BURBANK             1\n",
       "COVINA              1\n",
       "CULVER CITY         1\n",
       "DOWNEY              2\n",
       "ENCINO              1\n",
       "GARDENA             1\n",
       "GLENDALE            3\n",
       "GLENDORA            2\n",
       "HARBOR CITY         1\n",
       "HOLLYWOOD           1\n",
       "HUNTINGTON PARK     1\n",
       "INGLEWOOD           1\n",
       "LAKEWOOD            1\n",
       "LANCASTER           1\n",
       "LONG BEACH          5\n",
       "LOS ANGELES        16\n",
       "LYNWOOD             1\n",
       "MARINA DEL REY      1\n",
       "MISSION HILLS       1\n",
       "MONTEBELLO          1\n",
       "MONTEREY PARK       2\n",
       "NORTHRIDGE          1\n",
       "NORWALK             2\n",
       "PALMDALE            1\n",
       "PANORAMA CITY       2\n",
       "PASADENA            1\n",
       "POMONA              1\n",
       "SAN DIMAS           1\n",
       "SAN GABRIEL         1\n",
       "SAN PEDRO           1\n",
       "SANTA MONICA        2\n",
       "SHERMAN OAKS        1\n",
       "SOUTH EL MONTE      1\n",
       "SUN VALLEY          1\n",
       "SYLMAR              1\n",
       "TARZANA             1\n",
       "TORRANCE            3\n",
       "VALENCIA            1\n",
       "VAN NUYS            1\n",
       "WEST COVINA         1\n",
       "WEST HILLS          1\n",
       "WHITTIER            2\n",
       "WOODLAND HILLS      1\n",
       "Name: facility_name, dtype: int64"
      ]
     },
     "execution_count": 19,
     "metadata": {},
     "output_type": "execute_result"
    }
   ],
   "source": [
    "hosp_loc = LA_ed_data.groupby(\"DBA_CITY\").count()[\"facility_name\"]\n",
    "hosp_loc"
   ]
  },
  {
   "cell_type": "code",
   "execution_count": 20,
   "metadata": {},
   "outputs": [
    {
     "data": {
      "text/plain": [
       "3238050.0"
      ]
     },
     "execution_count": 20,
     "metadata": {},
     "output_type": "execute_result"
    }
   ],
   "source": [
    "ed_tot = (LA_ed_data[\"ED_Visit\"].sum())\n",
    "ed_tot"
   ]
  },
  {
   "cell_type": "code",
   "execution_count": 21,
   "metadata": {},
   "outputs": [
    {
     "data": {
      "text/plain": [
       "1758389.0"
      ]
     },
     "execution_count": 21,
     "metadata": {},
     "output_type": "execute_result"
    }
   ],
   "source": [
    "ed_sex_f = (LA_ed_data[\"Sex_Female\"].sum())\n",
    "ed_sex_f"
   ]
  },
  {
   "cell_type": "code",
   "execution_count": 22,
   "metadata": {},
   "outputs": [
    {
     "data": {
      "text/plain": [
       "54.3039483639845"
      ]
     },
     "execution_count": 22,
     "metadata": {},
     "output_type": "execute_result"
    }
   ],
   "source": [
    "ed_sex_f_perc = ed_sex_f / ed_tot*100\n",
    "ed_sex_f_perc"
   ]
  },
  {
   "cell_type": "code",
   "execution_count": 23,
   "metadata": {},
   "outputs": [
    {
     "data": {
      "text/plain": [
       "1479464.0"
      ]
     },
     "execution_count": 23,
     "metadata": {},
     "output_type": "execute_result"
    }
   ],
   "source": [
    "ed_sex_m = (LA_ed_data[\"Sex_Male\"].sum())\n",
    "ed_sex_m"
   ]
  },
  {
   "cell_type": "code",
   "execution_count": 24,
   "metadata": {},
   "outputs": [
    {
     "data": {
      "text/plain": [
       "46.0"
      ]
     },
     "execution_count": 24,
     "metadata": {},
     "output_type": "execute_result"
    }
   ],
   "source": [
    "ed_sex_m_perc = round(ed_sex_m / ed_tot*100)\n",
    "ed_sex_m_perc"
   ]
  },
  {
   "cell_type": "code",
   "execution_count": 25,
   "metadata": {},
   "outputs": [
    {
     "data": {
      "text/plain": [
       "83974.0"
      ]
     },
     "execution_count": 25,
     "metadata": {},
     "output_type": "execute_result"
    }
   ],
   "source": [
    "ed_age_U_1 = (LA_ed_data[\"Age_Under_1\"].sum())\n",
    "ed_age_U_1"
   ]
  },
  {
   "cell_type": "code",
   "execution_count": 26,
   "metadata": {},
   "outputs": [
    {
     "data": {
      "text/plain": [
       "3.0"
      ]
     },
     "execution_count": 26,
     "metadata": {},
     "output_type": "execute_result"
    }
   ],
   "source": [
    "ed_age_U_1_perc =  round(ed_age_U_1 / ed_tot*100)\n",
    "ed_age_U_1_perc"
   ]
  },
  {
   "cell_type": "code",
   "execution_count": 27,
   "metadata": {},
   "outputs": [
    {
     "data": {
      "text/plain": [
       "400400.0"
      ]
     },
     "execution_count": 27,
     "metadata": {},
     "output_type": "execute_result"
    }
   ],
   "source": [
    "ed_age_1_9 = (LA_ed_data[\"Age_01_09\"].sum())\n",
    "ed_age_1_9"
   ]
  },
  {
   "cell_type": "code",
   "execution_count": 28,
   "metadata": {},
   "outputs": [
    {
     "data": {
      "text/plain": [
       "12.0"
      ]
     },
     "execution_count": 28,
     "metadata": {},
     "output_type": "execute_result"
    }
   ],
   "source": [
    "ed_age_1_9_perc =  round(ed_age_1_9 / ed_tot*100)\n",
    "ed_age_1_9_perc"
   ]
  },
  {
   "cell_type": "code",
   "execution_count": 29,
   "metadata": {},
   "outputs": [
    {
     "data": {
      "text/plain": [
       "326628.0"
      ]
     },
     "execution_count": 29,
     "metadata": {},
     "output_type": "execute_result"
    }
   ],
   "source": [
    "ed_age_10_19 = (LA_ed_data[\"Age_10_19\"].sum())\n",
    "ed_age_10_19"
   ]
  },
  {
   "cell_type": "code",
   "execution_count": 30,
   "metadata": {},
   "outputs": [
    {
     "data": {
      "text/plain": [
       "10.0"
      ]
     },
     "execution_count": 30,
     "metadata": {},
     "output_type": "execute_result"
    }
   ],
   "source": [
    "ed_age_10_19_perc = round(ed_age_10_19 / ed_tot*100)\n",
    "ed_age_10_19_perc"
   ]
  },
  {
   "cell_type": "code",
   "execution_count": 31,
   "metadata": {},
   "outputs": [
    {
     "data": {
      "text/plain": [
       "548706.0"
      ]
     },
     "execution_count": 31,
     "metadata": {},
     "output_type": "execute_result"
    }
   ],
   "source": [
    "ed_age_20_29 = (LA_ed_data[\"Age_20_29\"].sum())\n",
    "ed_age_20_29"
   ]
  },
  {
   "cell_type": "code",
   "execution_count": 32,
   "metadata": {},
   "outputs": [
    {
     "data": {
      "text/plain": [
       "10.0"
      ]
     },
     "execution_count": 32,
     "metadata": {},
     "output_type": "execute_result"
    }
   ],
   "source": [
    "ed_age_20_29_perc = round(ed_age_10_19 / ed_tot*100)\n",
    "ed_age_20_29_perc"
   ]
  },
  {
   "cell_type": "code",
   "execution_count": 33,
   "metadata": {},
   "outputs": [
    {
     "data": {
      "text/plain": [
       "471801.0"
      ]
     },
     "execution_count": 33,
     "metadata": {},
     "output_type": "execute_result"
    }
   ],
   "source": [
    "ed_age_30_39 = (LA_ed_data[\"Age_30_39\"].sum())\n",
    "ed_age_30_39"
   ]
  },
  {
   "cell_type": "code",
   "execution_count": 34,
   "metadata": {},
   "outputs": [
    {
     "data": {
      "text/plain": [
       "15.0"
      ]
     },
     "execution_count": 34,
     "metadata": {},
     "output_type": "execute_result"
    }
   ],
   "source": [
    "ed_age_30_39_perc = round(ed_age_30_39 / ed_tot*100)\n",
    "ed_age_30_39_perc"
   ]
  },
  {
   "cell_type": "code",
   "execution_count": 35,
   "metadata": {},
   "outputs": [
    {
     "data": {
      "text/plain": [
       "390968.0"
      ]
     },
     "execution_count": 35,
     "metadata": {},
     "output_type": "execute_result"
    }
   ],
   "source": [
    "ed_age_40_49 = (LA_ed_data[\"Age_40_49\"].sum())\n",
    "ed_age_40_49"
   ]
  },
  {
   "cell_type": "code",
   "execution_count": 36,
   "metadata": {},
   "outputs": [
    {
     "data": {
      "text/plain": [
       "12.0"
      ]
     },
     "execution_count": 36,
     "metadata": {},
     "output_type": "execute_result"
    }
   ],
   "source": [
    "ed_age_40_49_perc = round(ed_age_40_49 / ed_tot*100)\n",
    "ed_age_40_49_perc"
   ]
  },
  {
   "cell_type": "code",
   "execution_count": 37,
   "metadata": {},
   "outputs": [
    {
     "data": {
      "text/plain": [
       "392989.0"
      ]
     },
     "execution_count": 37,
     "metadata": {},
     "output_type": "execute_result"
    }
   ],
   "source": [
    "ed_age_50_59 = (LA_ed_data[\"Age_50_59\"].sum())\n",
    "ed_age_50_59"
   ]
  },
  {
   "cell_type": "code",
   "execution_count": 38,
   "metadata": {},
   "outputs": [
    {
     "data": {
      "text/plain": [
       "12.0"
      ]
     },
     "execution_count": 38,
     "metadata": {},
     "output_type": "execute_result"
    }
   ],
   "source": [
    "ed_age_50_59_perc = round(ed_age_50_59 / ed_tot*100)\n",
    "ed_age_50_59_perc"
   ]
  },
  {
   "cell_type": "code",
   "execution_count": 39,
   "metadata": {},
   "outputs": [
    {
     "data": {
      "text/plain": [
       "291179.0"
      ]
     },
     "execution_count": 39,
     "metadata": {},
     "output_type": "execute_result"
    }
   ],
   "source": [
    "ed_age_60_69 = (LA_ed_data[\"Age_60_69\"].sum())\n",
    "ed_age_60_69"
   ]
  },
  {
   "cell_type": "code",
   "execution_count": 40,
   "metadata": {},
   "outputs": [
    {
     "data": {
      "text/plain": [
       "9.0"
      ]
     },
     "execution_count": 40,
     "metadata": {},
     "output_type": "execute_result"
    }
   ],
   "source": [
    "ed_age_60_69_perc = round(ed_age_60_69 /  ed_tot*100)\n",
    "ed_age_60_69_perc"
   ]
  },
  {
   "cell_type": "code",
   "execution_count": 44,
   "metadata": {},
   "outputs": [
    {
     "data": {
      "text/plain": [
       "177748.0"
      ]
     },
     "execution_count": 44,
     "metadata": {},
     "output_type": "execute_result"
    }
   ],
   "source": [
    "ed_age_70_79 = (LA_ed_data[\"Age_70_79\"].sum())\n",
    "ed_age_70_79"
   ]
  },
  {
   "cell_type": "code",
   "execution_count": 45,
   "metadata": {},
   "outputs": [
    {
     "data": {
      "text/plain": [
       "5.0"
      ]
     },
     "execution_count": 45,
     "metadata": {},
     "output_type": "execute_result"
    }
   ],
   "source": [
    "ed_age_70_79_perc = round(ed_age_70_79 / ed_tot*100)\n",
    "ed_age_70_79_perc"
   ]
  },
  {
   "cell_type": "code",
   "execution_count": 46,
   "metadata": {},
   "outputs": [
    {
     "data": {
      "text/plain": [
       "153491.0"
      ]
     },
     "execution_count": 46,
     "metadata": {},
     "output_type": "execute_result"
    }
   ],
   "source": [
    "ed_age_80 = (LA_ed_data[\"Age_80_\"].sum())\n",
    "ed_age_80"
   ]
  },
  {
   "cell_type": "code",
   "execution_count": 47,
   "metadata": {},
   "outputs": [
    {
     "data": {
      "text/plain": [
       "5.0"
      ]
     },
     "execution_count": 47,
     "metadata": {},
     "output_type": "execute_result"
    }
   ],
   "source": [
    "ed_age_80_perc = round(ed_age_80 / ed_tot*100)\n",
    "ed_age_80_perc"
   ]
  },
  {
   "cell_type": "code",
   "execution_count": 48,
   "metadata": {},
   "outputs": [
    {
     "data": {
      "text/plain": [
       "1664211.0"
      ]
     },
     "execution_count": 48,
     "metadata": {},
     "output_type": "execute_result"
    }
   ],
   "source": [
    "ed_et_hisp = (LA_ed_data[\"Hispanic or Latino\"].sum())\n",
    "ed_et_hisp"
   ]
  },
  {
   "cell_type": "code",
   "execution_count": 49,
   "metadata": {},
   "outputs": [
    {
     "data": {
      "text/plain": [
       "51.0"
      ]
     },
     "execution_count": 49,
     "metadata": {},
     "output_type": "execute_result"
    }
   ],
   "source": [
    "ed_et_hisp_perc = round(ed_et_hisp / ed_tot*100)\n",
    "ed_et_hisp_perc"
   ]
  },
  {
   "cell_type": "code",
   "execution_count": 50,
   "metadata": {},
   "outputs": [
    {
     "data": {
      "text/plain": [
       "1530242.0"
      ]
     },
     "execution_count": 50,
     "metadata": {},
     "output_type": "execute_result"
    }
   ],
   "source": [
    "ed_et_non_hisp = (LA_ed_data[\"Non-Hispanic or Non-Latino\"].sum())\n",
    "ed_et_non_hisp"
   ]
  },
  {
   "cell_type": "code",
   "execution_count": 51,
   "metadata": {},
   "outputs": [
    {
     "data": {
      "text/plain": [
       "47.0"
      ]
     },
     "execution_count": 51,
     "metadata": {},
     "output_type": "execute_result"
    }
   ],
   "source": [
    "ed_et_non_hisp_perc = round(ed_et_non_hisp /  ed_tot*100)\n",
    "ed_et_non_hisp_perc"
   ]
  },
  {
   "cell_type": "code",
   "execution_count": 52,
   "metadata": {},
   "outputs": [
    {
     "data": {
      "text/plain": [
       "42647.0"
      ]
     },
     "execution_count": 52,
     "metadata": {},
     "output_type": "execute_result"
    }
   ],
   "source": [
    "ed_et_unk = (LA_ed_data[\"Unknown_Eth\"].sum())\n",
    "ed_et_unk"
   ]
  },
  {
   "cell_type": "code",
   "execution_count": 53,
   "metadata": {},
   "outputs": [
    {
     "data": {
      "text/plain": [
       "1.0"
      ]
     },
     "execution_count": 53,
     "metadata": {},
     "output_type": "execute_result"
    }
   ],
   "source": [
    "ed_et_unk_perc = round(ed_et_unk / ed_tot*100)\n",
    "ed_et_unk_perc"
   ]
  },
  {
   "cell_type": "code",
   "execution_count": 54,
   "metadata": {},
   "outputs": [
    {
     "data": {
      "text/plain": [
       "1454810.0"
      ]
     },
     "execution_count": 54,
     "metadata": {},
     "output_type": "execute_result"
    }
   ],
   "source": [
    "ed_payer_Cal = (LA_ed_data[\"Medi_Cal\"].sum())\n",
    "ed_payer_Cal"
   ]
  },
  {
   "cell_type": "code",
   "execution_count": 55,
   "metadata": {},
   "outputs": [
    {
     "data": {
      "text/plain": [
       "45.0"
      ]
     },
     "execution_count": 55,
     "metadata": {},
     "output_type": "execute_result"
    }
   ],
   "source": [
    "ed_payer_Cal_perc = round(ed_payer_Cal / ed_tot*100)\n",
    "ed_payer_Cal_perc"
   ]
  },
  {
   "cell_type": "code",
   "execution_count": 56,
   "metadata": {},
   "outputs": [
    {
     "data": {
      "text/plain": [
       "509751.0"
      ]
     },
     "execution_count": 56,
     "metadata": {},
     "output_type": "execute_result"
    }
   ],
   "source": [
    "ed_payer_Care = (LA_ed_data[\"Medicare\"].sum())\n",
    "ed_payer_Care"
   ]
  },
  {
   "cell_type": "code",
   "execution_count": 57,
   "metadata": {},
   "outputs": [
    {
     "data": {
      "text/plain": [
       "16.0"
      ]
     },
     "execution_count": 57,
     "metadata": {},
     "output_type": "execute_result"
    }
   ],
   "source": [
    "ed_payer_Care_perc = round(ed_payer_Care / ed_tot*100)\n",
    "ed_payer_Care_perc"
   ]
  },
  {
   "cell_type": "code",
   "execution_count": 58,
   "metadata": {},
   "outputs": [
    {
     "data": {
      "text/plain": [
       "88595.0"
      ]
     },
     "execution_count": 58,
     "metadata": {},
     "output_type": "execute_result"
    }
   ],
   "source": [
    "ed_payer_other = (LA_ed_data[\"Other_Payer\"].sum())\n",
    "ed_payer_other"
   ]
  },
  {
   "cell_type": "code",
   "execution_count": 59,
   "metadata": {},
   "outputs": [
    {
     "data": {
      "text/plain": [
       "3.0"
      ]
     },
     "execution_count": 59,
     "metadata": {},
     "output_type": "execute_result"
    }
   ],
   "source": [
    "ed_payer_other_perc = round(ed_payer_other / ed_tot*100)\n",
    "ed_payer_other_perc"
   ]
  },
  {
   "cell_type": "code",
   "execution_count": 60,
   "metadata": {},
   "outputs": [
    {
     "data": {
      "text/plain": [
       "933778.0"
      ]
     },
     "execution_count": 60,
     "metadata": {},
     "output_type": "execute_result"
    }
   ],
   "source": [
    "ed_payer_priv = (LA_ed_data[\"Private_Coverage\"].sum())\n",
    "ed_payer_priv"
   ]
  },
  {
   "cell_type": "code",
   "execution_count": 61,
   "metadata": {},
   "outputs": [
    {
     "data": {
      "text/plain": [
       "29.0"
      ]
     },
     "execution_count": 61,
     "metadata": {},
     "output_type": "execute_result"
    }
   ],
   "source": [
    "ed_payer_priv_perc = round(ed_payer_priv / ed_tot*100)\n",
    "ed_payer_priv_perc"
   ]
  },
  {
   "cell_type": "code",
   "execution_count": 62,
   "metadata": {},
   "outputs": [
    {
     "data": {
      "text/plain": [
       "249802.0"
      ]
     },
     "execution_count": 62,
     "metadata": {},
     "output_type": "execute_result"
    }
   ],
   "source": [
    "ed_payer_self = (LA_ed_data[\"SelfPay\"].sum())\n",
    "ed_payer_self"
   ]
  },
  {
   "cell_type": "code",
   "execution_count": 63,
   "metadata": {},
   "outputs": [
    {
     "data": {
      "text/plain": [
       "8.0"
      ]
     },
     "execution_count": 63,
     "metadata": {},
     "output_type": "execute_result"
    }
   ],
   "source": [
    "ed_payer_self_perc = round(ed_payer_self / ed_tot*100)\n",
    "ed_payer_self_perc"
   ]
  },
  {
   "cell_type": "code",
   "execution_count": 64,
   "metadata": {},
   "outputs": [
    {
     "data": {
      "text/plain": [
       "1314.0"
      ]
     },
     "execution_count": 64,
     "metadata": {},
     "output_type": "execute_result"
    }
   ],
   "source": [
    "ed_payer_unk = (LA_ed_data[\"Unknown_Payer\"].sum())\n",
    "ed_payer_unk"
   ]
  },
  {
   "cell_type": "code",
   "execution_count": 65,
   "metadata": {},
   "outputs": [
    {
     "data": {
      "text/plain": [
       "0.04057997869087877"
      ]
     },
     "execution_count": 65,
     "metadata": {},
     "output_type": "execute_result"
    }
   ],
   "source": [
    "ed_payer_unk_perc = ed_payer_unk / ed_tot*100\n",
    "ed_payer_unk_perc"
   ]
  },
  {
   "cell_type": "code",
   "execution_count": 66,
   "metadata": {},
   "outputs": [
    {
     "data": {
      "text/plain": [
       "773914.0"
      ]
     },
     "execution_count": 66,
     "metadata": {},
     "output_type": "execute_result"
    }
   ],
   "source": [
    "ed_symp = (LA_ed_data[\"DX_Symptoms\"].sum())\n",
    "ed_symp"
   ]
  },
  {
   "cell_type": "code",
   "execution_count": 67,
   "metadata": {},
   "outputs": [
    {
     "data": {
      "text/plain": [
       "24.0"
      ]
     },
     "execution_count": 67,
     "metadata": {},
     "output_type": "execute_result"
    }
   ],
   "source": [
    "ed_symp_perc = round(ed_symp / ed_tot*100)\n",
    "ed_symp_perc"
   ]
  },
  {
   "cell_type": "code",
   "execution_count": 68,
   "metadata": {},
   "outputs": [
    {
     "data": {
      "text/plain": [
       "616727.0"
      ]
     },
     "execution_count": 68,
     "metadata": {},
     "output_type": "execute_result"
    }
   ],
   "source": [
    "ed_inj = (LA_ed_data[\"DX_Injuries_Poisonings\"].sum())\n",
    "ed_inj"
   ]
  },
  {
   "cell_type": "code",
   "execution_count": 69,
   "metadata": {},
   "outputs": [
    {
     "data": {
      "text/plain": [
       "19.0"
      ]
     },
     "execution_count": 69,
     "metadata": {},
     "output_type": "execute_result"
    }
   ],
   "source": [
    "ed_inj_perc = round(ed_inj / ed_tot*100)\n",
    "ed_inj_perc"
   ]
  },
  {
   "cell_type": "code",
   "execution_count": 70,
   "metadata": {},
   "outputs": [
    {
     "data": {
      "text/plain": [
       "339606.0"
      ]
     },
     "execution_count": 70,
     "metadata": {},
     "output_type": "execute_result"
    }
   ],
   "source": [
    "ed_resp = (LA_ed_data[\"DX_Respiratory_System\"].sum())\n",
    "ed_resp"
   ]
  },
  {
   "cell_type": "code",
   "execution_count": 71,
   "metadata": {},
   "outputs": [
    {
     "data": {
      "text/plain": [
       "10.0"
      ]
     },
     "execution_count": 71,
     "metadata": {},
     "output_type": "execute_result"
    }
   ],
   "source": [
    "ed_resp_perc = round(ed_resp / ed_tot*100)\n",
    "ed_resp_perc"
   ]
  },
  {
   "cell_type": "code",
   "execution_count": 72,
   "metadata": {},
   "outputs": [
    {
     "data": {
      "text/plain": [
       "236675.0"
      ]
     },
     "execution_count": 72,
     "metadata": {},
     "output_type": "execute_result"
    }
   ],
   "source": [
    "ed_musc = (LA_ed_data[\"DX_Musculoskeletal_System\"].sum())\n",
    "ed_musc"
   ]
  },
  {
   "cell_type": "code",
   "execution_count": 73,
   "metadata": {},
   "outputs": [
    {
     "data": {
      "text/plain": [
       "7.0"
      ]
     },
     "execution_count": 73,
     "metadata": {},
     "output_type": "execute_result"
    }
   ],
   "source": [
    "ed_musc_perc = round(ed_musc / ed_tot*100)\n",
    "ed_musc_perc"
   ]
  },
  {
   "cell_type": "code",
   "execution_count": null,
   "metadata": {},
   "outputs": [],
   "source": []
  }
 ],
 "metadata": {
  "kernelspec": {
   "display_name": "Python 3",
   "language": "python",
   "name": "python3"
  },
  "language_info": {
   "codemirror_mode": {
    "name": "ipython",
    "version": 3
   },
   "file_extension": ".py",
   "mimetype": "text/x-python",
   "name": "python",
   "nbconvert_exporter": "python",
   "pygments_lexer": "ipython3",
   "version": "3.7.6"
  }
 },
 "nbformat": 4,
 "nbformat_minor": 4
}
